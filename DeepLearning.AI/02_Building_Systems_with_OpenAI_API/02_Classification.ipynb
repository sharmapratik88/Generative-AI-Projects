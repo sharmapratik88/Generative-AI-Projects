{
  "nbformat": 4,
  "nbformat_minor": 0,
  "metadata": {
    "colab": {
      "provenance": [],
      "authorship_tag": "ABX9TyN2ucsWxIqDho//hqKMLaEU",
      "include_colab_link": true
    },
    "kernelspec": {
      "name": "python3",
      "display_name": "Python 3"
    },
    "language_info": {
      "name": "python"
    }
  },
  "cells": [
    {
      "cell_type": "markdown",
      "metadata": {
        "id": "view-in-github",
        "colab_type": "text"
      },
      "source": [
        "<a href=\"https://colab.research.google.com/github/sharmapratik88/LearningAI/blob/main/DeepLearning.AI/02_Building_Systems_with_OpenAI_API/02_Classification.ipynb\" target=\"_parent\"><img src=\"https://colab.research.google.com/assets/colab-badge.svg\" alt=\"Open In Colab\"/></a>"
      ]
    },
    {
      "cell_type": "code",
      "execution_count": 1,
      "metadata": {
        "id": "VUY1t5krLeqU",
        "colab": {
          "base_uri": "https://localhost:8080/"
        },
        "outputId": "d80e4f4f-f662-4f00-8004-0dc233a343b6"
      },
      "outputs": [
        {
          "output_type": "stream",
          "name": "stdout",
          "text": [
            "Drive already mounted at /content/drive/; to attempt to forcibly remount, call drive.mount(\"/content/drive/\", force_remount=True).\n"
          ]
        }
      ],
      "source": [
        "# Mounting Google Drive\n",
        "from google.colab import drive\n",
        "drive.mount('/content/drive/')"
      ]
    },
    {
      "cell_type": "code",
      "source": [
        "# Setting the current working directory\n",
        "import os; os.chdir('/content/drive/MyDrive/Learnings/DeepLearning.AI/Building_Systems_with_ChatGPT_API')"
      ],
      "metadata": {
        "id": "fDr9xSK4LlOW"
      },
      "execution_count": 2,
      "outputs": []
    },
    {
      "cell_type": "code",
      "source": [
        "# Import packages/libraries\n",
        "!pip install -q openai\n",
        "\n",
        "from helperFunc import *"
      ],
      "metadata": {
        "id": "1D56fpUOLnSF"
      },
      "execution_count": 3,
      "outputs": []
    },
    {
      "cell_type": "markdown",
      "source": [
        "#### Classify customer queries to handle different cases\n",
        "\n",
        " - Focus is on evaluating inputs for tasks related to ensuring the quality and safety of a system.\n",
        "\n",
        " - Approach involves classifying queries into primary and secondary categories to determine the relevant set of instructions. For example, in building a customer service assistant, the type of query is classified first, and specific instructions are then applied based on that classification.\n",
        "\n",
        " - Use of a delimiter, represented by hashtags, helps structure the instructions.\n",
        "\n",
        " - Process is illustrated with an example, where a user query about deleting a profile is classified as account management with closing the account as a secondary category.\n",
        "\n",
        " - Structured output, in JSON format, facilitates further processing of the information.\n",
        "\n",
        " - Importance of categorization in providing specific instructions for handling customer inquiries."
      ],
      "metadata": {
        "id": "YnXRzAIBSMKz"
      }
    },
    {
      "cell_type": "code",
      "source": [
        "delimiter = \"####\"\n",
        "system_message = f\"\"\"\n",
        "You will be provided with customer service queries. \\\n",
        "The customer service query will be delimited with \\\n",
        "{delimiter} characters.\n",
        "Classify each query into a primary category \\\n",
        "and a secondary category.\n",
        "Provide your output in json format with the \\\n",
        "keys: primary and secondary.\n",
        "\n",
        "Primary categories: Billing, Technical Support, \\\n",
        "Account Management, or General Inquiry.\n",
        "\n",
        "Billing secondary categories:\n",
        "Unsubscribe or upgrade\n",
        "Add a payment method\n",
        "Explanation for charge\n",
        "Dispute a charge\n",
        "\n",
        "Technical Support secondary categories:\n",
        "General troubleshooting\n",
        "Device compatibility\n",
        "Software updates\n",
        "\n",
        "Account Management secondary categories:\n",
        "Password reset\n",
        "Update personal information\n",
        "Close account\n",
        "Account security\n",
        "\n",
        "General Inquiry secondary categories:\n",
        "Product information\n",
        "Pricing\n",
        "Feedback\n",
        "Speak to a human\n",
        "\n",
        "\"\"\"\n",
        "user_message = f\"\"\"\\\n",
        "I want you to delete my profile and all of my user data\"\"\"\n",
        "messages =  [\n",
        "    {'role':'system', 'content': system_message},\n",
        "    {'role':'user', 'content': f\"{delimiter}{user_message}{delimiter}\"},\n",
        "]\n",
        "response = get_completion_from_messages(messages)\n",
        "print(response)"
      ],
      "metadata": {
        "id": "mORpAAwhMMxu",
        "colab": {
          "base_uri": "https://localhost:8080/"
        },
        "outputId": "cc98128d-a17d-45f7-ba34-0def22d9f83e"
      },
      "execution_count": 4,
      "outputs": [
        {
          "output_type": "stream",
          "name": "stdout",
          "text": [
            "{\n",
            "  \"primary\": \"Account Management\",\n",
            "  \"secondary\": \"Close account\"\n",
            "}\n"
          ]
        }
      ]
    },
    {
      "cell_type": "code",
      "source": [
        "user_message = f\"\"\"\\\n",
        "Tell me more about your flat screen tvs\"\"\"\n",
        "messages =  [\n",
        "    {'role':'system', 'content': system_message},\n",
        "    {'role':'user', 'content': f\"{delimiter}{user_message}{delimiter}\"},\n",
        "  ]\n",
        "response = get_completion_from_messages(messages)\n",
        "print(response)"
      ],
      "metadata": {
        "id": "fcMn20xWSaIT",
        "colab": {
          "base_uri": "https://localhost:8080/"
        },
        "outputId": "81d405a7-3457-460e-b303-52f624d68ec7"
      },
      "execution_count": 5,
      "outputs": [
        {
          "output_type": "stream",
          "name": "stdout",
          "text": [
            "{\n",
            "  \"primary\": \"General Inquiry\",\n",
            "  \"secondary\": \"Product information\"\n",
            "}\n"
          ]
        }
      ]
    }
  ]
}