{
  "nbformat": 4,
  "nbformat_minor": 0,
  "metadata": {
    "colab": {
      "provenance": [],
      "authorship_tag": "ABX9TyNoCzAgh5RGFSxWYu+lKbHl",
      "include_colab_link": true
    },
    "kernelspec": {
      "name": "python3",
      "display_name": "Python 3"
    },
    "language_info": {
      "name": "python"
    }
  },
  "cells": [
    {
      "cell_type": "markdown",
      "metadata": {
        "id": "view-in-github",
        "colab_type": "text"
      },
      "source": [
        "<a href=\"https://colab.research.google.com/github/sharmapratik88/LearningAI/blob/main/DeepLearning.AI/02_Building_Systems_with_OpenAI_API/05_Chaining_Prompts.ipynb\" target=\"_parent\"><img src=\"https://colab.research.google.com/assets/colab-badge.svg\" alt=\"Open In Colab\"/></a>"
      ]
    },
    {
      "cell_type": "code",
      "execution_count": 1,
      "metadata": {
        "colab": {
          "base_uri": "https://localhost:8080/"
        },
        "id": "DPnUfI45uG-A",
        "outputId": "fdc48cb7-0b21-41c7-8584-66fa03f1043c"
      },
      "outputs": [
        {
          "output_type": "stream",
          "name": "stdout",
          "text": [
            "Drive already mounted at /content/drive/; to attempt to forcibly remount, call drive.mount(\"/content/drive/\", force_remount=True).\n"
          ]
        }
      ],
      "source": [
        "# Mounting Google Drive\n",
        "from google.colab import drive\n",
        "drive.mount('/content/drive/')"
      ]
    },
    {
      "cell_type": "code",
      "source": [
        "# Setting the current working directory\n",
        "import os; os.chdir('/content/drive/MyDrive/Learnings/DeepLearning.AI/Building_Systems_with_ChatGPT_API')"
      ],
      "metadata": {
        "id": "3BkZjNKvuHs_"
      },
      "execution_count": 2,
      "outputs": []
    },
    {
      "cell_type": "code",
      "source": [
        "# Import packages/libraries\n",
        "!pip install -q openai\n",
        "\n",
        "from helperFunc import *"
      ],
      "metadata": {
        "id": "UvRz3wpRuMMG"
      },
      "execution_count": 3,
      "outputs": []
    },
    {
      "cell_type": "markdown",
      "source": [
        "#### Chaining Prompts\n",
        "- Chaining prompts proves to be a potent strategy when operating within a workflow that allows for the preservation of the system's state at any juncture, enabling the initiation of diverse actions based on the existing state.\n",
        "- Each subtask comprises only the instructions necessary for a specific task state. This approach simplifies the system management, ensures the model possesses all essential information for task execution, and minimizes the probability of errors.\n",
        "  1. **Cost Reduction:** This approach can lead to lower costs as longer prompts with more tokens incur higher expenses. Outlining all steps might be unnecessary in some cases.\n",
        "  2. **Ease of Testing:** Breaking down tasks into steps makes it easier to identify which steps might be failing more frequently. Additionally, it facilitates the inclusion of a human in the loop at a specific step for enhanced testing and validation.\n",
        "  3. **Integration of External Tools:** It also allows the model to use external tools at certain points of the workflow if necessary. For example, it might decide to look something up in a product catalog, call an API, or search a knowledge base—something that could not be achieved with a single prompt.\n",
        "\n",
        "\n",
        "\n",
        "\n",
        "\n",
        "\n"
      ],
      "metadata": {
        "id": "yWX8R5rmu97F"
      }
    },
    {
      "cell_type": "code",
      "source": [
        "delimiter = \"####\"\n",
        "system_message = f\"\"\"\n",
        "You will be provided with customer service queries. \\\n",
        "The customer service query will be delimited with \\\n",
        "{delimiter} characters.\n",
        "Output a python list of objects, where each object has \\\n",
        "the following format:\n",
        "    'category': <one of Computers and Laptops, \\\n",
        "    Smartphones and Accessories, \\\n",
        "    Televisions and Home Theater Systems, \\\n",
        "    Gaming Consoles and Accessories,\n",
        "    Audio Equipment, Cameras and Camcorders>,\n",
        "OR\n",
        "    'products': <a list of products that must \\\n",
        "    be found in the allowed products below>\n",
        "\n",
        "Where the categories and products must be found in \\\n",
        "the customer service query.\n",
        "If a product is mentioned, it must be associated with \\\n",
        "the correct category in the allowed products list below.\n",
        "If no products or categories are found, output an \\\n",
        "empty list.\n",
        "\n",
        "Allowed products:\n",
        "\n",
        "Computers and Laptops category:\n",
        "TechPro Ultrabook\n",
        "BlueWave Gaming Laptop\n",
        "PowerLite Convertible\n",
        "TechPro Desktop\n",
        "BlueWave Chromebook\n",
        "\n",
        "Smartphones and Accessories category:\n",
        "SmartX ProPhone\n",
        "MobiTech PowerCase\n",
        "SmartX MiniPhone\n",
        "MobiTech Wireless Charger\n",
        "SmartX EarBuds\n",
        "\n",
        "Televisions and Home Theater Systems category:\n",
        "CineView 4K TV\n",
        "SoundMax Home Theater\n",
        "CineView 8K TV\n",
        "SoundMax Soundbar\n",
        "CineView OLED TV\n",
        "\n",
        "Gaming Consoles and Accessories category:\n",
        "GameSphere X\n",
        "ProGamer Controller\n",
        "GameSphere Y\n",
        "ProGamer Racing Wheel\n",
        "GameSphere VR Headset\n",
        "\n",
        "Audio Equipment category:\n",
        "AudioPhonic Noise-Canceling Headphones\n",
        "WaveSound Bluetooth Speaker\n",
        "AudioPhonic True Wireless Earbuds\n",
        "WaveSound Soundbar\n",
        "AudioPhonic Turntable\n",
        "\n",
        "Cameras and Camcorders category:\n",
        "FotoSnap DSLR Camera\n",
        "ActionCam 4K\n",
        "FotoSnap Mirrorless Camera\n",
        "ZoomMaster Camcorder\n",
        "FotoSnap Instant Camera\n",
        "\n",
        "Only output the list of objects, with nothing else.\n",
        "\"\"\"\n",
        "user_message_1 = f\"\"\"\n",
        " tell me about the smartx pro phone and \\\n",
        " the fotosnap camera, the dslr one. \\\n",
        " Also tell me about your tvs \"\"\"\n",
        "messages = [\n",
        "    {'role': 'system',\n",
        "     'content': system_message},\n",
        "    {'role': 'user',\n",
        "     'content': f\"{delimiter}{user_message_1}{delimiter}\"},\n",
        "]\n",
        "category_and_product_response_1 = get_completion_from_messages(messages)\n",
        "print(category_and_product_response_1)\n"
      ],
      "metadata": {
        "id": "mt1FX2VnuNjq",
        "colab": {
          "base_uri": "https://localhost:8080/"
        },
        "outputId": "6b55dc35-a5a0-436c-f00e-eef52e71c0c9"
      },
      "execution_count": 4,
      "outputs": [
        {
          "output_type": "stream",
          "name": "stdout",
          "text": [
            "[{'category': 'Smartphones and Accessories', 'products': ['SmartX ProPhone']}, {'category': 'Cameras and Camcorders', 'products': ['FotoSnap DSLR Camera']}, {'category': 'Televisions and Home Theater Systems'}]\n"
          ]
        }
      ]
    },
    {
      "cell_type": "code",
      "source": [
        "user_message_2 = f\"\"\"\n",
        "my router isn't working\"\"\"\n",
        "messages = [\n",
        "    {'role': 'system',\n",
        "     'content': system_message},\n",
        "    {'role': 'user',\n",
        "     'content': f\"{delimiter}{user_message_2}{delimiter}\"},\n",
        "]\n",
        "response = get_completion_from_messages(messages)\n",
        "print(response)\n"
      ],
      "metadata": {
        "colab": {
          "base_uri": "https://localhost:8080/"
        },
        "id": "CDo7vfOqvRE7",
        "outputId": "de4660bf-bd14-4797-a8f2-b072113d80f9"
      },
      "execution_count": 5,
      "outputs": [
        {
          "output_type": "stream",
          "name": "stdout",
          "text": [
            "[]\n"
          ]
        }
      ]
    },
    {
      "cell_type": "markdown",
      "source": [
        "#### Retrieve detailed product information for extracted products and categories"
      ],
      "metadata": {
        "id": "X9LGvNB8veqQ"
      }
    },
    {
      "cell_type": "code",
      "source": [
        "# product information\n",
        "products = {\n",
        "    \"TechPro Ultrabook\": {\n",
        "        \"name\": \"TechPro Ultrabook\",\n",
        "        \"category\": \"Computers and Laptops\",\n",
        "        \"brand\": \"TechPro\",\n",
        "        \"model_number\": \"TP-UB100\",\n",
        "        \"warranty\": \"1 year\",\n",
        "        \"rating\": 4.5,\n",
        "        \"features\": [\"13.3-inch display\", \"8GB RAM\", \"256GB SSD\",\n",
        "                     \"Intel Core i5 processor\"],\n",
        "        \"description\": \"A sleek and lightweight ultrabook for everyday use.\",\n",
        "        \"price\": 799.99\n",
        "    },\n",
        "    \"BlueWave Gaming Laptop\": {\n",
        "        \"name\": \"BlueWave Gaming Laptop\",\n",
        "        \"category\": \"Computers and Laptops\",\n",
        "        \"brand\": \"BlueWave\",\n",
        "        \"model_number\": \"BW-GL200\",\n",
        "        \"warranty\": \"2 years\",\n",
        "        \"rating\": 4.7,\n",
        "        \"features\": [\"15.6-inch display\", \"16GB RAM\", \"512GB SSD\",\n",
        "                     \"NVIDIA GeForce RTX 3060\"],\n",
        "        \"description\": \"High-performance gaming laptop for an immersive experience.\",\n",
        "        \"price\": 1199.99\n",
        "    },\n",
        "    \"PowerLite Convertible\": {\n",
        "        \"name\": \"PowerLite Convertible\",\n",
        "        \"category\": \"Computers and Laptops\",\n",
        "        \"brand\": \"PowerLite\",\n",
        "        \"model_number\": \"PL-CV300\",\n",
        "        \"warranty\": \"1 year\",\n",
        "        \"rating\": 4.3,\n",
        "        \"features\": [\"14-inch touchscreen\", \"8GB RAM\", \"256GB SSD\",\n",
        "                     \"360-degree hinge\"],\n",
        "        \"description\": \"A versatile convertible laptop with a responsive touchscreen.\",\n",
        "        \"price\": 699.99\n",
        "    },\n",
        "    \"TechPro Desktop\": {\n",
        "        \"name\": \"TechPro Desktop\",\n",
        "        \"category\": \"Computers and Laptops\",\n",
        "        \"brand\": \"TechPro\",\n",
        "        \"model_number\": \"TP-DT500\",\n",
        "        \"warranty\": \"1 year\",\n",
        "        \"rating\": 4.4,\n",
        "        \"features\": [\"Intel Core i7 processor\", \"16GB RAM\", \"1TB HDD\",\n",
        "                     \"NVIDIA GeForce GTX 1660\"],\n",
        "        \"description\": \"A powerful desktop computer for work and play.\",\n",
        "        \"price\": 999.99\n",
        "    },\n",
        "    \"BlueWave Chromebook\": {\n",
        "        \"name\": \"BlueWave Chromebook\",\n",
        "        \"category\": \"Computers and Laptops\",\n",
        "        \"brand\": \"BlueWave\",\n",
        "        \"model_number\": \"BW-CB100\",\n",
        "        \"warranty\": \"1 year\",\n",
        "        \"rating\": 4.1,\n",
        "        \"features\": [\"11.6-inch display\", \"4GB RAM\", \"32GB eMMC\", \"Chrome OS\"],\n",
        "        \"description\": \"A compact and affordable Chromebook for everyday tasks.\",\n",
        "        \"price\": 249.99\n",
        "    },\n",
        "    \"SmartX ProPhone\": {\n",
        "        \"name\": \"SmartX ProPhone\",\n",
        "        \"category\": \"Smartphones and Accessories\",\n",
        "        \"brand\": \"SmartX\",\n",
        "        \"model_number\": \"SX-PP10\",\n",
        "        \"warranty\": \"1 year\",\n",
        "        \"rating\": 4.6,\n",
        "        \"features\": [\"6.1-inch display\", \"128GB storage\",\n",
        "                     \"12MP dual camera\", \"5G\"],\n",
        "        \"description\": \"A powerful smartphone with advanced camera features.\",\n",
        "        \"price\": 899.99\n",
        "    },\n",
        "    \"MobiTech PowerCase\": {\n",
        "        \"name\": \"MobiTech PowerCase\",\n",
        "        \"category\": \"Smartphones and Accessories\",\n",
        "        \"brand\": \"MobiTech\",\n",
        "        \"model_number\": \"MT-PC20\",\n",
        "        \"warranty\": \"1 year\",\n",
        "        \"rating\": 4.3,\n",
        "        \"features\": [\"5000mAh battery\", \"Wireless charging\",\n",
        "                     \"Compatible with SmartX ProPhone\"],\n",
        "        \"description\": \"A protective case with built-in battery for extended usage.\",\n",
        "        \"price\": 59.99\n",
        "    },\n",
        "    \"SmartX MiniPhone\": {\n",
        "        \"name\": \"SmartX MiniPhone\",\n",
        "        \"category\": \"Smartphones and Accessories\",\n",
        "        \"brand\": \"SmartX\",\n",
        "        \"model_number\": \"SX-MP5\",\n",
        "        \"warranty\": \"1 year\",\n",
        "        \"rating\": 4.2,\n",
        "        \"features\": [\"4.7-inch display\", \"64GB storage\", \"8MP camera\", \"4G\"],\n",
        "        \"description\": \"A compact and affordable smartphone for basic tasks.\",\n",
        "        \"price\": 399.99\n",
        "    },\n",
        "    \"MobiTech Wireless Charger\": {\n",
        "        \"name\": \"MobiTech Wireless Charger\",\n",
        "        \"category\": \"Smartphones and Accessories\",\n",
        "        \"brand\": \"MobiTech\",\n",
        "        \"model_number\": \"MT-WC10\",\n",
        "        \"warranty\": \"1 year\",\n",
        "        \"rating\": 4.5,\n",
        "        \"features\": [\"10W fast charging\", \"Qi-compatible\",\n",
        "                     \"LED indicator\", \"Compact design\"],\n",
        "        \"description\": \"A convenient wireless charger for a clutter-free workspace.\",\n",
        "        \"price\": 29.99\n",
        "    },\n",
        "    \"SmartX EarBuds\": {\n",
        "        \"name\": \"SmartX EarBuds\",\n",
        "        \"category\": \"Smartphones and Accessories\",\n",
        "        \"brand\": \"SmartX\",\n",
        "        \"model_number\": \"SX-EB20\",\n",
        "        \"warranty\": \"1 year\",\n",
        "        \"rating\": 4.4,\n",
        "        \"features\": [\"True wireless\", \"Bluetooth 5.0\",\n",
        "                     \"Touch controls\", \"24-hour battery life\"],\n",
        "        \"description\": \"Experience true wireless freedom with these comfortable earbuds.\",\n",
        "        \"price\": 99.99\n",
        "    },\n",
        "\n",
        "    \"CineView 4K TV\": {\n",
        "        \"name\": \"CineView 4K TV\",\n",
        "        \"category\": \"Televisions and Home Theater Systems\",\n",
        "        \"brand\": \"CineView\",\n",
        "        \"model_number\": \"CV-4K55\",\n",
        "        \"warranty\": \"2 years\",\n",
        "        \"rating\": 4.8,\n",
        "        \"features\": [\"55-inch display\", \"4K resolution\",\n",
        "                     \"HDR\", \"Smart TV\"],\n",
        "        \"description\": \"A stunning 4K TV with vibrant colors and smart features.\",\n",
        "        \"price\": 599.99\n",
        "    },\n",
        "    \"SoundMax Home Theater\": {\n",
        "        \"name\": \"SoundMax Home Theater\",\n",
        "        \"category\": \"Televisions and Home Theater Systems\",\n",
        "        \"brand\": \"SoundMax\",\n",
        "        \"model_number\": \"SM-HT100\",\n",
        "        \"warranty\": \"1 year\",\n",
        "        \"rating\": 4.4,\n",
        "        \"features\": [\"5.1 channel\", \"1000W output\",\n",
        "                     \"Wireless subwoofer\", \"Bluetooth\"],\n",
        "        \"description\": \"A powerful home theater system for an immersive audio experience.\",\n",
        "        \"price\": 399.99\n",
        "    },\n",
        "    \"CineView 8K TV\": {\n",
        "        \"name\": \"CineView 8K TV\",\n",
        "        \"category\": \"Televisions and Home Theater Systems\",\n",
        "        \"brand\": \"CineView\",\n",
        "        \"model_number\": \"CV-8K65\",\n",
        "        \"warranty\": \"2 years\",\n",
        "        \"rating\": 4.9,\n",
        "        \"features\": [\"65-inch display\", \"8K resolution\", \"HDR\", \"Smart TV\"],\n",
        "        \"description\": \"Experience the future of television with this stunning 8K TV.\",\n",
        "        \"price\": 2999.99\n",
        "    },\n",
        "    \"SoundMax Soundbar\": {\n",
        "        \"name\": \"SoundMax Soundbar\",\n",
        "        \"category\": \"Televisions and Home Theater Systems\",\n",
        "        \"brand\": \"SoundMax\",\n",
        "        \"model_number\": \"SM-SB50\",\n",
        "        \"warranty\": \"1 year\",\n",
        "        \"rating\": 4.3,\n",
        "        \"features\": [\"2.1 channel\", \"300W output\",\n",
        "                     \"Wireless subwoofer\", \"Bluetooth\"],\n",
        "        \"description\": \"Upgrade your TV's audio with this sleek and powerful soundbar.\",\n",
        "        \"price\": 199.99\n",
        "    },\n",
        "    \"CineView OLED TV\": {\n",
        "        \"name\": \"CineView OLED TV\",\n",
        "        \"category\": \"Televisions and Home Theater Systems\",\n",
        "        \"brand\": \"CineView\",\n",
        "        \"model_number\": \"CV-OLED55\",\n",
        "        \"warranty\": \"2 years\",\n",
        "        \"rating\": 4.7,\n",
        "        \"features\": [\"55-inch display\", \"4K resolution\", \"HDR\", \"Smart TV\"],\n",
        "        \"description\": \"Experience true blacks and vibrant colors with this OLED TV.\",\n",
        "        \"price\": 1499.99\n",
        "    },\n",
        "\n",
        "    \"GameSphere X\": {\n",
        "        \"name\": \"GameSphere X\",\n",
        "        \"category\": \"Gaming Consoles and Accessories\",\n",
        "        \"brand\": \"GameSphere\",\n",
        "        \"model_number\": \"GS-X\",\n",
        "        \"warranty\": \"1 year\",\n",
        "        \"rating\": 4.9,\n",
        "        \"features\": [\"4K gaming\", \"1TB storage\",\n",
        "                     \"Backward compatibility\", \"Online multiplayer\"],\n",
        "        \"description\": \"A next-generation gaming console for the ultimate gaming experience.\",\n",
        "        \"price\": 499.99\n",
        "    },\n",
        "    \"ProGamer Controller\": {\n",
        "        \"name\": \"ProGamer Controller\",\n",
        "        \"category\": \"Gaming Consoles and Accessories\",\n",
        "        \"brand\": \"ProGamer\",\n",
        "        \"model_number\": \"PG-C100\",\n",
        "        \"warranty\": \"1 year\",\n",
        "        \"rating\": 4.2,\n",
        "        \"features\": [\"Ergonomic design\", \"Customizable buttons\",\n",
        "                     \"Wireless\", \"Rechargeable battery\"],\n",
        "        \"description\": \"A high-quality gaming controller for precision and comfort.\",\n",
        "        \"price\": 59.99\n",
        "    },\n",
        "    \"GameSphere Y\": {\n",
        "        \"name\": \"GameSphere Y\",\n",
        "        \"category\": \"Gaming Consoles and Accessories\",\n",
        "        \"brand\": \"GameSphere\",\n",
        "        \"model_number\": \"GS-Y\",\n",
        "        \"warranty\": \"1 year\",\n",
        "        \"rating\": 4.8,\n",
        "        \"features\": [\"4K gaming\", \"500GB storage\",\n",
        "                     \"Backward compatibility\", \"Online multiplayer\"],\n",
        "        \"description\": \"A compact gaming console with powerful performance.\",\n",
        "        \"price\": 399.99\n",
        "    },\n",
        "    \"ProGamer Racing Wheel\": {\n",
        "        \"name\": \"ProGamer Racing Wheel\",\n",
        "        \"category\": \"Gaming Consoles and Accessories\",\n",
        "        \"brand\": \"ProGamer\",\n",
        "        \"model_number\": \"PG-RW200\",\n",
        "        \"warranty\": \"1 year\",\n",
        "        \"rating\": 4.5,\n",
        "        \"features\": [\"Force feedback\", \"Adjustable pedals\",\n",
        "                     \"Paddle shifters\", \"Compatible with GameSphere X\"],\n",
        "        \"description\": \"Enhance your racing games with this realistic racing wheel.\",\n",
        "        \"price\": 249.99\n",
        "    },\n",
        "    \"GameSphere VR Headset\": {\n",
        "        \"name\": \"GameSphere VR Headset\",\n",
        "        \"category\": \"Gaming Consoles and Accessories\",\n",
        "        \"brand\": \"GameSphere\",\n",
        "        \"model_number\": \"GS-VR\",\n",
        "        \"warranty\": \"1 year\",\n",
        "        \"rating\": 4.6,\n",
        "        \"features\": [\"Immersive VR experience\", \"Built-in headphones\",\n",
        "                     \"Adjustable headband\", \"Compatible with GameSphere X\"],\n",
        "        \"description\": \"Step into the world of virtual reality with this comfortable VR headset.\",\n",
        "        \"price\": 299.99\n",
        "    },\n",
        "\n",
        "    \"AudioPhonic Noise-Canceling Headphones\": {\n",
        "        \"name\": \"AudioPhonic Noise-Canceling Headphones\",\n",
        "        \"category\": \"Audio Equipment\",\n",
        "        \"brand\": \"AudioPhonic\",\n",
        "        \"model_number\": \"AP-NC100\",\n",
        "        \"warranty\": \"1 year\",\n",
        "        \"rating\": 4.6,\n",
        "        \"features\": [\"Active noise-canceling\", \"Bluetooth\",\n",
        "                     \"20-hour battery life\", \"Comfortable fit\"],\n",
        "        \"description\": \"Experience immersive sound with these noise-canceling headphones.\",\n",
        "        \"price\": 199.99\n",
        "    },\n",
        "    \"WaveSound Bluetooth Speaker\": {\n",
        "        \"name\": \"WaveSound Bluetooth Speaker\",\n",
        "        \"category\": \"Audio Equipment\",\n",
        "        \"brand\": \"WaveSound\",\n",
        "        \"model_number\": \"WS-BS50\",\n",
        "        \"warranty\": \"1 year\",\n",
        "        \"rating\": 4.5,\n",
        "        \"features\": [\"Portable\", \"10-hour battery life\",\n",
        "                     \"Water-resistant\", \"Built-in microphone\"],\n",
        "        \"description\": \"A compact and versatile Bluetooth speaker for music on the go.\",\n",
        "        \"price\": 49.99\n",
        "    },\n",
        "    \"AudioPhonic True Wireless Earbuds\": {\n",
        "        \"name\": \"AudioPhonic True Wireless Earbuds\",\n",
        "        \"category\": \"Audio Equipment\",\n",
        "        \"brand\": \"AudioPhonic\",\n",
        "        \"model_number\": \"AP-TW20\",\n",
        "        \"warranty\": \"1 year\",\n",
        "        \"rating\": 4.4,\n",
        "        \"features\": [\"True wireless\", \"Bluetooth 5.0\",\n",
        "                     \"Touch controls\", \"18-hour battery life\"],\n",
        "        \"description\": \"Enjoy music without wires with these comfortable true wireless earbuds.\",\n",
        "        \"price\": 79.99\n",
        "    },\n",
        "    \"WaveSound Soundbar\": {\n",
        "        \"name\": \"WaveSound Soundbar\",\n",
        "        \"category\": \"Audio Equipment\",\n",
        "        \"brand\": \"WaveSound\",\n",
        "        \"model_number\": \"WS-SB40\",\n",
        "        \"warranty\": \"1 year\",\n",
        "        \"rating\": 4.3,\n",
        "        \"features\": [\"2.0 channel\", \"80W output\",\n",
        "                     \"Bluetooth\", \"Wall-mountable\"],\n",
        "        \"description\": \"Upgrade your TV's audio with this slim and powerful soundbar.\",\n",
        "        \"price\": 99.99\n",
        "    },\n",
        "    \"AudioPhonic Turntable\": {\n",
        "        \"name\": \"AudioPhonic Turntable\",\n",
        "        \"category\": \"Audio Equipment\",\n",
        "        \"brand\": \"AudioPhonic\",\n",
        "        \"model_number\": \"AP-TT10\",\n",
        "        \"warranty\": \"1 year\",\n",
        "        \"rating\": 4.2,\n",
        "        \"features\": [\"3-speed\", \"Built-in speakers\",\n",
        "                     \"Bluetooth\", \"USB recording\"],\n",
        "        \"description\": \"Rediscover your vinyl collection with this modern turntable.\",\n",
        "        \"price\": 149.99\n",
        "    },\n",
        "\n",
        "    \"FotoSnap DSLR Camera\": {\n",
        "        \"name\": \"FotoSnap DSLR Camera\",\n",
        "        \"category\": \"Cameras and Camcorders\",\n",
        "        \"brand\": \"FotoSnap\",\n",
        "        \"model_number\": \"FS-DSLR200\",\n",
        "        \"warranty\": \"1 year\",\n",
        "        \"rating\": 4.7,\n",
        "        \"features\": [\"24.2MP sensor\", \"1080p video\",\n",
        "                     \"3-inch LCD\", \"Interchangeable lenses\"],\n",
        "        \"description\": \"Capture stunning photos and videos with this versatile DSLR camera.\",\n",
        "        \"price\": 599.99\n",
        "    },\n",
        "    \"ActionCam 4K\": {\n",
        "        \"name\": \"ActionCam 4K\",\n",
        "        \"category\": \"Cameras and Camcorders\",\n",
        "        \"brand\": \"ActionCam\",\n",
        "        \"model_number\": \"AC-4K\",\n",
        "        \"warranty\": \"1 year\",\n",
        "        \"rating\": 4.4,\n",
        "        \"features\": [\"4K video\", \"Waterproof\", \"Image stabilization\", \"Wi-Fi\"],\n",
        "        \"description\": \"Record your adventures with this rugged and compact 4K action camera.\",\n",
        "        \"price\": 299.99\n",
        "    },\n",
        "    \"FotoSnap Mirrorless Camera\": {\n",
        "        \"name\": \"FotoSnap Mirrorless Camera\",\n",
        "        \"category\": \"Cameras and Camcorders\",\n",
        "        \"brand\": \"FotoSnap\",\n",
        "        \"model_number\": \"FS-ML100\",\n",
        "        \"warranty\": \"1 year\",\n",
        "        \"rating\": 4.6,\n",
        "        \"features\": [\"20.1MP sensor\", \"4K video\",\n",
        "                     \"3-inch touchscreen\", \"Interchangeable lenses\"],\n",
        "        \"description\": \"A compact and lightweight mirrorless camera with advanced features.\",\n",
        "        \"price\": 799.99\n",
        "    },\n",
        "    \"ZoomMaster Camcorder\": {\n",
        "        \"name\": \"ZoomMaster Camcorder\",\n",
        "        \"category\": \"Cameras and Camcorders\",\n",
        "        \"brand\": \"ZoomMaster\",\n",
        "        \"model_number\": \"ZM-CM50\",\n",
        "        \"warranty\": \"1 year\",\n",
        "        \"rating\": 4.3,\n",
        "        \"features\": [\"1080p video\", \"30x optical zoom\",\n",
        "                     \"3-inch LCD\", \"Image stabilization\"],\n",
        "        \"description\": \"Capture life's moments with this easy-to-use camcorder.\",\n",
        "        \"price\": 249.99\n",
        "    },\n",
        "    \"FotoSnap Instant Camera\": {\n",
        "        \"name\": \"FotoSnap Instant Camera\",\n",
        "        \"category\": \"Cameras and Camcorders\",\n",
        "        \"brand\": \"FotoSnap\",\n",
        "        \"model_number\": \"FS-IC10\",\n",
        "        \"warranty\": \"1 year\",\n",
        "        \"rating\": 4.1,\n",
        "        \"features\": [\"Instant prints\", \"Built-in flash\",\n",
        "                     \"Selfie mirror\", \"Battery-powered\"],\n",
        "        \"description\": \"Create instant memories with this fun and portable instant camera.\",\n",
        "        \"price\": 69.99\n",
        "    }\n",
        "}\n"
      ],
      "metadata": {
        "id": "mwHr5tejvV8G"
      },
      "execution_count": 6,
      "outputs": []
    },
    {
      "cell_type": "code",
      "source": [
        "def get_product_by_name(name):\n",
        "    return products.get(name, None)\n",
        "\n",
        "def get_products_by_category(category):\n",
        "    return [product for product in products.values() if product[\"category\"] == category]"
      ],
      "metadata": {
        "id": "gHn4TSnovldZ"
      },
      "execution_count": 7,
      "outputs": []
    },
    {
      "cell_type": "code",
      "source": [
        "print(json.dumps(get_product_by_name(\"TechPro Ultrabook\"), indent = 4))"
      ],
      "metadata": {
        "colab": {
          "base_uri": "https://localhost:8080/"
        },
        "id": "abGWXM3Xvo24",
        "outputId": "4f24c0e9-f2af-49ec-ff55-81ff8f8ed4f2"
      },
      "execution_count": 8,
      "outputs": [
        {
          "output_type": "stream",
          "name": "stdout",
          "text": [
            "{\n",
            "    \"name\": \"TechPro Ultrabook\",\n",
            "    \"category\": \"Computers and Laptops\",\n",
            "    \"brand\": \"TechPro\",\n",
            "    \"model_number\": \"TP-UB100\",\n",
            "    \"warranty\": \"1 year\",\n",
            "    \"rating\": 4.5,\n",
            "    \"features\": [\n",
            "        \"13.3-inch display\",\n",
            "        \"8GB RAM\",\n",
            "        \"256GB SSD\",\n",
            "        \"Intel Core i5 processor\"\n",
            "    ],\n",
            "    \"description\": \"A sleek and lightweight ultrabook for everyday use.\",\n",
            "    \"price\": 799.99\n",
            "}\n"
          ]
        }
      ]
    },
    {
      "cell_type": "code",
      "source": [
        "print(json.dumps(get_products_by_category(\"Computers and Laptops\"), indent = 4))"
      ],
      "metadata": {
        "colab": {
          "base_uri": "https://localhost:8080/"
        },
        "id": "S2D04VLRvqHH",
        "outputId": "5f9e9808-6e65-4774-cc05-82031b3a42b5"
      },
      "execution_count": 9,
      "outputs": [
        {
          "output_type": "stream",
          "name": "stdout",
          "text": [
            "[\n",
            "    {\n",
            "        \"name\": \"TechPro Ultrabook\",\n",
            "        \"category\": \"Computers and Laptops\",\n",
            "        \"brand\": \"TechPro\",\n",
            "        \"model_number\": \"TP-UB100\",\n",
            "        \"warranty\": \"1 year\",\n",
            "        \"rating\": 4.5,\n",
            "        \"features\": [\n",
            "            \"13.3-inch display\",\n",
            "            \"8GB RAM\",\n",
            "            \"256GB SSD\",\n",
            "            \"Intel Core i5 processor\"\n",
            "        ],\n",
            "        \"description\": \"A sleek and lightweight ultrabook for everyday use.\",\n",
            "        \"price\": 799.99\n",
            "    },\n",
            "    {\n",
            "        \"name\": \"BlueWave Gaming Laptop\",\n",
            "        \"category\": \"Computers and Laptops\",\n",
            "        \"brand\": \"BlueWave\",\n",
            "        \"model_number\": \"BW-GL200\",\n",
            "        \"warranty\": \"2 years\",\n",
            "        \"rating\": 4.7,\n",
            "        \"features\": [\n",
            "            \"15.6-inch display\",\n",
            "            \"16GB RAM\",\n",
            "            \"512GB SSD\",\n",
            "            \"NVIDIA GeForce RTX 3060\"\n",
            "        ],\n",
            "        \"description\": \"High-performance gaming laptop for an immersive experience.\",\n",
            "        \"price\": 1199.99\n",
            "    },\n",
            "    {\n",
            "        \"name\": \"PowerLite Convertible\",\n",
            "        \"category\": \"Computers and Laptops\",\n",
            "        \"brand\": \"PowerLite\",\n",
            "        \"model_number\": \"PL-CV300\",\n",
            "        \"warranty\": \"1 year\",\n",
            "        \"rating\": 4.3,\n",
            "        \"features\": [\n",
            "            \"14-inch touchscreen\",\n",
            "            \"8GB RAM\",\n",
            "            \"256GB SSD\",\n",
            "            \"360-degree hinge\"\n",
            "        ],\n",
            "        \"description\": \"A versatile convertible laptop with a responsive touchscreen.\",\n",
            "        \"price\": 699.99\n",
            "    },\n",
            "    {\n",
            "        \"name\": \"TechPro Desktop\",\n",
            "        \"category\": \"Computers and Laptops\",\n",
            "        \"brand\": \"TechPro\",\n",
            "        \"model_number\": \"TP-DT500\",\n",
            "        \"warranty\": \"1 year\",\n",
            "        \"rating\": 4.4,\n",
            "        \"features\": [\n",
            "            \"Intel Core i7 processor\",\n",
            "            \"16GB RAM\",\n",
            "            \"1TB HDD\",\n",
            "            \"NVIDIA GeForce GTX 1660\"\n",
            "        ],\n",
            "        \"description\": \"A powerful desktop computer for work and play.\",\n",
            "        \"price\": 999.99\n",
            "    },\n",
            "    {\n",
            "        \"name\": \"BlueWave Chromebook\",\n",
            "        \"category\": \"Computers and Laptops\",\n",
            "        \"brand\": \"BlueWave\",\n",
            "        \"model_number\": \"BW-CB100\",\n",
            "        \"warranty\": \"1 year\",\n",
            "        \"rating\": 4.1,\n",
            "        \"features\": [\n",
            "            \"11.6-inch display\",\n",
            "            \"4GB RAM\",\n",
            "            \"32GB eMMC\",\n",
            "            \"Chrome OS\"\n",
            "        ],\n",
            "        \"description\": \"A compact and affordable Chromebook for everyday tasks.\",\n",
            "        \"price\": 249.99\n",
            "    }\n",
            "]\n"
          ]
        }
      ]
    },
    {
      "cell_type": "code",
      "source": [
        "print(user_message_1)"
      ],
      "metadata": {
        "colab": {
          "base_uri": "https://localhost:8080/"
        },
        "id": "ZyRkhNg_vuRA",
        "outputId": "32fbf1fb-79f9-4109-b0a4-0931d1432e3a"
      },
      "execution_count": 10,
      "outputs": [
        {
          "output_type": "stream",
          "name": "stdout",
          "text": [
            "\n",
            " tell me about the smartx pro phone and  the fotosnap camera, the dslr one.  Also tell me about your tvs \n"
          ]
        }
      ]
    },
    {
      "cell_type": "code",
      "source": [
        "print(category_and_product_response_1, type(category_and_product_response_1))"
      ],
      "metadata": {
        "colab": {
          "base_uri": "https://localhost:8080/"
        },
        "id": "YaUFFRsfvvvo",
        "outputId": "78c0618c-97c4-4ad3-8674-63491ff00f93"
      },
      "execution_count": 11,
      "outputs": [
        {
          "output_type": "stream",
          "name": "stdout",
          "text": [
            "[{'category': 'Smartphones and Accessories', 'products': ['SmartX ProPhone']}, {'category': 'Cameras and Camcorders', 'products': ['FotoSnap DSLR Camera']}, {'category': 'Televisions and Home Theater Systems'}] <class 'str'>\n"
          ]
        }
      ]
    },
    {
      "cell_type": "markdown",
      "source": [
        "#### Read Python string into Python list of dictionaries"
      ],
      "metadata": {
        "id": "HzHO8Vmtv-_Q"
      }
    },
    {
      "cell_type": "code",
      "source": [
        "def read_string_to_list(input_string):\n",
        "    if input_string is None:\n",
        "        return None\n",
        "\n",
        "    try:\n",
        "        input_string = input_string.replace(\"'\", \"\\\"\")\n",
        "        data = json.loads(input_string)\n",
        "        return data\n",
        "    except json.JSONDecodeError:\n",
        "        print(\"Error: Invalid JSON string\")\n",
        "        return None\n",
        ""
      ],
      "metadata": {
        "id": "hV9hB1MdvxJ0"
      },
      "execution_count": 12,
      "outputs": []
    },
    {
      "cell_type": "code",
      "source": [
        "category_and_product_list = read_string_to_list(category_and_product_response_1)\n",
        "print(category_and_product_list, type(category_and_product_list))"
      ],
      "metadata": {
        "colab": {
          "base_uri": "https://localhost:8080/"
        },
        "id": "yaugVTtkwBtY",
        "outputId": "49fd1622-ad59-4a61-ac36-fa9cd97b7e0b"
      },
      "execution_count": 13,
      "outputs": [
        {
          "output_type": "stream",
          "name": "stdout",
          "text": [
            "[{'category': 'Smartphones and Accessories', 'products': ['SmartX ProPhone']}, {'category': 'Cameras and Camcorders', 'products': ['FotoSnap DSLR Camera']}, {'category': 'Televisions and Home Theater Systems'}] <class 'list'>\n"
          ]
        }
      ]
    },
    {
      "cell_type": "markdown",
      "source": [
        "#### Retrieve detailed product information for the relevant products and categories\n",
        "\n",
        "Here, we've gathered comprehensive product details for the items referenced in the user message. This includes information about the mentioned phone and camera, as well as details for all TVs. This information will assist the model in providing a well-informed response to the user's initial inquiry."
      ],
      "metadata": {
        "id": "5FIT3ijkwPo0"
      }
    },
    {
      "cell_type": "code",
      "source": [
        "def generate_output_string(data_list):\n",
        "    output_string = \"\"\n",
        "\n",
        "    if data_list is None:\n",
        "        return output_string\n",
        "\n",
        "    for data in data_list:\n",
        "        try:\n",
        "            if \"products\" in data:\n",
        "                products_list = data[\"products\"]\n",
        "                for product_name in products_list:\n",
        "                    product = get_product_by_name(product_name)\n",
        "                    if product:\n",
        "                        output_string += json.dumps(product, indent=4) + \"\\n\"\n",
        "                    else:\n",
        "                        print(f\"Error: Product '{product_name}' not found\")\n",
        "            elif \"category\" in data:\n",
        "                category_name = data[\"category\"]\n",
        "                category_products = get_products_by_category(category_name)\n",
        "                for product in category_products:\n",
        "                    output_string += json.dumps(product, indent=4) + \"\\n\"\n",
        "            else:\n",
        "                print(\"Error: Invalid object format\")\n",
        "        except Exception as e:\n",
        "            print(f\"Error: {e}\")\n",
        "\n",
        "    return output_string"
      ],
      "metadata": {
        "id": "x5HhkzN1wEBI"
      },
      "execution_count": 14,
      "outputs": []
    },
    {
      "cell_type": "code",
      "source": [
        "product_information_for_user_message_1 = generate_output_string(category_and_product_list)\n",
        "print(product_information_for_user_message_1)"
      ],
      "metadata": {
        "colab": {
          "base_uri": "https://localhost:8080/"
        },
        "id": "UW8xWLr3wRsw",
        "outputId": "c8fbb8d5-b28b-432f-80d2-d4f16d555917"
      },
      "execution_count": 15,
      "outputs": [
        {
          "output_type": "stream",
          "name": "stdout",
          "text": [
            "{\n",
            "    \"name\": \"SmartX ProPhone\",\n",
            "    \"category\": \"Smartphones and Accessories\",\n",
            "    \"brand\": \"SmartX\",\n",
            "    \"model_number\": \"SX-PP10\",\n",
            "    \"warranty\": \"1 year\",\n",
            "    \"rating\": 4.6,\n",
            "    \"features\": [\n",
            "        \"6.1-inch display\",\n",
            "        \"128GB storage\",\n",
            "        \"12MP dual camera\",\n",
            "        \"5G\"\n",
            "    ],\n",
            "    \"description\": \"A powerful smartphone with advanced camera features.\",\n",
            "    \"price\": 899.99\n",
            "}\n",
            "{\n",
            "    \"name\": \"FotoSnap DSLR Camera\",\n",
            "    \"category\": \"Cameras and Camcorders\",\n",
            "    \"brand\": \"FotoSnap\",\n",
            "    \"model_number\": \"FS-DSLR200\",\n",
            "    \"warranty\": \"1 year\",\n",
            "    \"rating\": 4.7,\n",
            "    \"features\": [\n",
            "        \"24.2MP sensor\",\n",
            "        \"1080p video\",\n",
            "        \"3-inch LCD\",\n",
            "        \"Interchangeable lenses\"\n",
            "    ],\n",
            "    \"description\": \"Capture stunning photos and videos with this versatile DSLR camera.\",\n",
            "    \"price\": 599.99\n",
            "}\n",
            "{\n",
            "    \"name\": \"CineView 4K TV\",\n",
            "    \"category\": \"Televisions and Home Theater Systems\",\n",
            "    \"brand\": \"CineView\",\n",
            "    \"model_number\": \"CV-4K55\",\n",
            "    \"warranty\": \"2 years\",\n",
            "    \"rating\": 4.8,\n",
            "    \"features\": [\n",
            "        \"55-inch display\",\n",
            "        \"4K resolution\",\n",
            "        \"HDR\",\n",
            "        \"Smart TV\"\n",
            "    ],\n",
            "    \"description\": \"A stunning 4K TV with vibrant colors and smart features.\",\n",
            "    \"price\": 599.99\n",
            "}\n",
            "{\n",
            "    \"name\": \"SoundMax Home Theater\",\n",
            "    \"category\": \"Televisions and Home Theater Systems\",\n",
            "    \"brand\": \"SoundMax\",\n",
            "    \"model_number\": \"SM-HT100\",\n",
            "    \"warranty\": \"1 year\",\n",
            "    \"rating\": 4.4,\n",
            "    \"features\": [\n",
            "        \"5.1 channel\",\n",
            "        \"1000W output\",\n",
            "        \"Wireless subwoofer\",\n",
            "        \"Bluetooth\"\n",
            "    ],\n",
            "    \"description\": \"A powerful home theater system for an immersive audio experience.\",\n",
            "    \"price\": 399.99\n",
            "}\n",
            "{\n",
            "    \"name\": \"CineView 8K TV\",\n",
            "    \"category\": \"Televisions and Home Theater Systems\",\n",
            "    \"brand\": \"CineView\",\n",
            "    \"model_number\": \"CV-8K65\",\n",
            "    \"warranty\": \"2 years\",\n",
            "    \"rating\": 4.9,\n",
            "    \"features\": [\n",
            "        \"65-inch display\",\n",
            "        \"8K resolution\",\n",
            "        \"HDR\",\n",
            "        \"Smart TV\"\n",
            "    ],\n",
            "    \"description\": \"Experience the future of television with this stunning 8K TV.\",\n",
            "    \"price\": 2999.99\n",
            "}\n",
            "{\n",
            "    \"name\": \"SoundMax Soundbar\",\n",
            "    \"category\": \"Televisions and Home Theater Systems\",\n",
            "    \"brand\": \"SoundMax\",\n",
            "    \"model_number\": \"SM-SB50\",\n",
            "    \"warranty\": \"1 year\",\n",
            "    \"rating\": 4.3,\n",
            "    \"features\": [\n",
            "        \"2.1 channel\",\n",
            "        \"300W output\",\n",
            "        \"Wireless subwoofer\",\n",
            "        \"Bluetooth\"\n",
            "    ],\n",
            "    \"description\": \"Upgrade your TV's audio with this sleek and powerful soundbar.\",\n",
            "    \"price\": 199.99\n",
            "}\n",
            "{\n",
            "    \"name\": \"CineView OLED TV\",\n",
            "    \"category\": \"Televisions and Home Theater Systems\",\n",
            "    \"brand\": \"CineView\",\n",
            "    \"model_number\": \"CV-OLED55\",\n",
            "    \"warranty\": \"2 years\",\n",
            "    \"rating\": 4.7,\n",
            "    \"features\": [\n",
            "        \"55-inch display\",\n",
            "        \"4K resolution\",\n",
            "        \"HDR\",\n",
            "        \"Smart TV\"\n",
            "    ],\n",
            "    \"description\": \"Experience true blacks and vibrant colors with this OLED TV.\",\n",
            "    \"price\": 1499.99\n",
            "}\n",
            "\n"
          ]
        }
      ]
    },
    {
      "cell_type": "markdown",
      "source": [
        "### Generate answer to user query based on detailed product information"
      ],
      "metadata": {
        "id": "rPzS91AHwZzk"
      }
    },
    {
      "cell_type": "code",
      "source": [
        "system_message = f\"\"\"\n",
        "You are a customer service assistant for a \\\n",
        "large electronic store. \\\n",
        "Respond in a friendly and helpful tone, \\\n",
        "with very concise answers. \\\n",
        "Make sure to ask the user relevant follow up questions.\n",
        "\"\"\"\n",
        "user_message_1 = f\"\"\"\n",
        "tell me about the smartx pro phone and \\\n",
        "the fotosnap camera, the dslr one. \\\n",
        "Also tell me about your tvs\"\"\"\n",
        "messages = [\n",
        "    {'role': 'system',\n",
        "     'content': system_message},\n",
        "    {'role': 'user',\n",
        "     'content': user_message_1},\n",
        "    {'role': 'assistant',\n",
        "     'content': f\"\"\"Relevant product information:\\n\\\n",
        " {product_information_for_user_message_1}\"\"\"},\n",
        "]\n",
        "final_response = get_completion_from_messages(messages)\n",
        "print(final_response)"
      ],
      "metadata": {
        "colab": {
          "base_uri": "https://localhost:8080/"
        },
        "id": "tvR8mu35wTB0",
        "outputId": "3942f33e-847c-4a82-af7e-c478343b2460"
      },
      "execution_count": 16,
      "outputs": [
        {
          "output_type": "stream",
          "name": "stdout",
          "text": [
            "The SmartX ProPhone is a powerful smartphone with a 6.1-inch display, 128GB storage, a 12MP dual camera, and 5G capability. It is priced at $899.99 and comes with a 1-year warranty. \n",
            "\n",
            "The FotoSnap DSLR Camera is a versatile camera with a 24.2MP sensor, 1080p video recording, a 3-inch LCD screen, and interchangeable lenses. It is priced at $599.99 and also comes with a 1-year warranty.\n",
            "\n",
            "As for our TVs, we have a range of options. The CineView 4K TV is a 55-inch TV with 4K resolution, HDR, and smart TV features. It is priced at $599.99 and comes with a 2-year warranty.\n",
            "\n",
            "We also have the CineView 8K TV, which is a 65-inch TV with 8K resolution, HDR, and smart TV features. It is priced at $2999.99 and also comes with a 2-year warranty.\n",
            "\n",
            "Lastly, we have the CineView OLED TV, which is a 55-inch TV with 4K resolution, HDR, and smart TV features. It is priced at $1499.99 and comes with a 2-year warranty.\n",
            "\n",
            "Is there anything specific you would like to know about these products?\n"
          ]
        }
      ]
    },
    {
      "cell_type": "markdown",
      "source": [
        "#### Final Note\n",
        "\n",
        "By segmenting this process into a series of steps, we managed to load pertinent information associated with the user's query, providing the model with the contextual understanding required to respond effectively. You might wonder why we choose to selectively load product descriptions into the prompt rather than incorporating all of them, allowing the model to utilize the available information. The rationale behind this decision stems from several considerations.\n",
        "\n",
        "1. Including all product descriptions in the prompt may create **confusion for the model**, similar to the challenges a person faces when processing an extensive amount of information simultaneously. While this is less relevant for advanced models like GPT-4, particularly when the context is well-structured, the next reasons carry more weight.\n",
        "\n",
        "2. **Context limitations** of language models, where there is a fixed number of tokens allowed as input and output. If dealing with an extensive product catalog, fitting all descriptions into the context window becomes impractical. The final reason involves cost considerations, as language models operate on a token-based pricing model. Selectively loading information helps reduce the cost associated with generating responses.\n",
        "\n",
        "\n",
        "<u>*In essence, determining when to dynamically load information into the model's context, allowing the model to decide when it needs more information, is a key strategy to enhance the capabilities of these models. It's crucial to perceive a language model as a reasoning agent requiring relevant context to draw meaningful conclusions and perform useful tasks. In this scenario, providing the model with product information enabled it to reason about that information and generate a useful response.*</u>\n",
        "\n",
        "\n",
        "In addition to exact matches, more advanced **information retrieval techniques, such as text embeddings,** can be employed. Text embeddings enable efficient knowledge retrieval over a large corpus, supporting searches related to a given query. One notable advantage of text embeddings is their ability to conduct fuzzy or semantic searches, enabling the retrieval of relevant information without relying on exact keywords. In our example, this means conducting a broader search with a more general query like \"mobile phone\" rather than requiring the exact product name."
      ],
      "metadata": {
        "id": "PSJuxt_n65Vz"
      }
    }
  ]
}