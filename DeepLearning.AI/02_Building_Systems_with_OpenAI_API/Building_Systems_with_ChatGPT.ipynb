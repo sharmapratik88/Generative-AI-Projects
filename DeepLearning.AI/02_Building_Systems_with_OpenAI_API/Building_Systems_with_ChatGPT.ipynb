{
  "nbformat": 4,
  "nbformat_minor": 0,
  "metadata": {
    "colab": {
      "provenance": [],
      "authorship_tag": "ABX9TyNHgp9Sn/jrmTtTtHPZHmSQ",
      "include_colab_link": true
    },
    "kernelspec": {
      "name": "python3",
      "display_name": "Python 3"
    },
    "language_info": {
      "name": "python"
    }
  },
  "cells": [
    {
      "cell_type": "markdown",
      "metadata": {
        "id": "view-in-github",
        "colab_type": "text"
      },
      "source": [
        "<a href=\"https://colab.research.google.com/github/sharmapratik88/LearningAI/blob/main/DeepLearning.AI/02_Building_Systems_with_OpenAI_API/Building_Systems_with_ChatGPT.ipynb\" target=\"_parent\"><img src=\"https://colab.research.google.com/assets/colab-badge.svg\" alt=\"Open In Colab\"/></a>"
      ]
    },
    {
      "cell_type": "code",
      "execution_count": 1,
      "metadata": {
        "colab": {
          "base_uri": "https://localhost:8080/"
        },
        "id": "cNt-EOk7RC2L",
        "outputId": "72cef3a7-0e43-4b8a-c06c-5776313a2d2f"
      },
      "outputs": [
        {
          "output_type": "stream",
          "name": "stdout",
          "text": [
            "Drive already mounted at /content/drive; to attempt to forcibly remount, call drive.mount(\"/content/drive\", force_remount=True).\n"
          ]
        }
      ],
      "source": [
        "# Mounting Google Drive\n",
        "from google.colab import drive\n",
        "drive.mount('/content/drive')"
      ]
    },
    {
      "cell_type": "code",
      "source": [
        "# Setting the current working directory\n",
        "import os; os.chdir('/content/drive/MyDrive/Learnings/DeepLearning.AI/Building_Systems_with_ChatGPT_API')"
      ],
      "metadata": {
        "id": "6B2xaPphRJCK"
      },
      "execution_count": 2,
      "outputs": []
    },
    {
      "cell_type": "code",
      "source": [
        "# Import packages/libraries\n",
        "!pip install -q openai\n",
        "\n",
        "from helperFunc import *"
      ],
      "metadata": {
        "id": "oYowacq2TTzt"
      },
      "execution_count": 7,
      "outputs": []
    },
    {
      "cell_type": "markdown",
      "source": [
        "## Large Language Model (LLMs)\n",
        "LLMs are sophisticated computer programs, capable of generating and analyzing human-quality text, have revolutionized various aspects of Natural Language Processing (NLP).\n",
        "\n",
        "Read more at: [ChatGPT Prompt Engineering & LLMs](https://pratikdsharma.com/chatgpt-prompt-engineering/).\n",
        "\n",
        "### Answering how do they work?\n",
        "- For e.g. text generation, prompt: \"I love eating\" and LLM generates the rest which might be \"bagels with cream cheese or out with friends\".\n",
        "\n",
        "- The main tool used to train an LLM is supervised learning (x -> y) which repeatedly predicts the next word. For e.g. in case your training sets contains lot of text data, which says \"My favorite food is a bagel with cream cheese and lox.\" Then when asking LLM the above prompt again, it might respond the next word as \"bagel\".\n",
        "\n",
        "- Two major LLMs:\n",
        "  - base LLMs: predicts next word, based on text training data\n",
        "  - instruction LLMs: tries to follow instructions\n",
        "  - Read more at: [ChatGPT Prompt Engineering & LLMs](https://pratikdsharma.com/chatgpt-prompt-engineering/).\n",
        "\n",
        "## How do we go from base to instruction tuned LLMs?\n",
        "\n",
        "\n"
      ],
      "metadata": {
        "id": "DVAm3SRJbATX"
      }
    },
    {
      "cell_type": "code",
      "source": [],
      "metadata": {
        "id": "dYLqg0RRaQSB"
      },
      "execution_count": null,
      "outputs": []
    }
  ]
}