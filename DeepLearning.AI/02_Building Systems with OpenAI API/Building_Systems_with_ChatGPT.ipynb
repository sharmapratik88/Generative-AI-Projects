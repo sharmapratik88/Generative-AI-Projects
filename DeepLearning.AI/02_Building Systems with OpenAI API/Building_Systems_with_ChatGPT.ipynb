{
  "nbformat": 4,
  "nbformat_minor": 0,
  "metadata": {
    "colab": {
      "provenance": [],
      "authorship_tag": "ABX9TyM3AlEI8qCv3jPo+1h9Oo72",
      "include_colab_link": true
    },
    "kernelspec": {
      "name": "python3",
      "display_name": "Python 3"
    },
    "language_info": {
      "name": "python"
    }
  },
  "cells": [
    {
      "cell_type": "markdown",
      "metadata": {
        "id": "view-in-github",
        "colab_type": "text"
      },
      "source": [
        "<a href=\"https://colab.research.google.com/github/sharmapratik88/LearningAI/blob/main/Building_Systems_with_ChatGPT.ipynb\" target=\"_parent\"><img src=\"https://colab.research.google.com/assets/colab-badge.svg\" alt=\"Open In Colab\"/></a>"
      ]
    },
    {
      "cell_type": "code",
      "execution_count": 1,
      "metadata": {
        "colab": {
          "base_uri": "https://localhost:8080/"
        },
        "id": "cNt-EOk7RC2L",
        "outputId": "72cef3a7-0e43-4b8a-c06c-5776313a2d2f"
      },
      "outputs": [
        {
          "output_type": "stream",
          "name": "stdout",
          "text": [
            "Drive already mounted at /content/drive; to attempt to forcibly remount, call drive.mount(\"/content/drive\", force_remount=True).\n"
          ]
        }
      ],
      "source": [
        "# Mounting Google Drive\n",
        "from google.colab import drive\n",
        "drive.mount('/content/drive')"
      ]
    },
    {
      "cell_type": "code",
      "source": [
        "# Setting the current working directory\n",
        "import os; os.chdir('/content/drive/MyDrive/Learnings/DeepLearning.AI/Building_Systems_with_ChatGPT_API')"
      ],
      "metadata": {
        "id": "6B2xaPphRJCK"
      },
      "execution_count": 2,
      "outputs": []
    },
    {
      "cell_type": "code",
      "source": [
        "# Read OpenAI API key\n",
        "import json\n",
        "\n",
        "with open('keys.json') as f:\n",
        "  key = json.load(f)"
      ],
      "metadata": {
        "id": "9w8YnAhsRkY5"
      },
      "execution_count": 3,
      "outputs": []
    },
    {
      "cell_type": "code",
      "source": [],
      "metadata": {
        "id": "oYowacq2TTzt"
      },
      "execution_count": null,
      "outputs": []
    }
  ]
}